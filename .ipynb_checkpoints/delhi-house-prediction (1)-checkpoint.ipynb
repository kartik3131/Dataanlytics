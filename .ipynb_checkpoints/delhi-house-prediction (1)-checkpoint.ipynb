{
 "cells": [
  {
   "cell_type": "markdown",
   "id": "4146e8ed",
   "metadata": {
    "papermill": {
     "duration": 0.016749,
     "end_time": "2022-06-13T06:02:21.114572",
     "exception": false,
     "start_time": "2022-06-13T06:02:21.097823",
     "status": "completed"
    },
    "tags": []
   },
   "source": [
    "# Importing Libraries"
   ]
  },
  {
   "cell_type": "code",
   "execution_count": 1,
   "id": "e81882c4",
   "metadata": {
    "execution": {
     "iopub.execute_input": "2022-06-13T06:02:21.148064Z",
     "iopub.status.busy": "2022-06-13T06:02:21.147386Z",
     "iopub.status.idle": "2022-06-13T06:02:22.255275Z",
     "shell.execute_reply": "2022-06-13T06:02:22.254185Z"
    },
    "papermill": {
     "duration": 1.127605,
     "end_time": "2022-06-13T06:02:22.257825",
     "exception": false,
     "start_time": "2022-06-13T06:02:21.130220",
     "status": "completed"
    },
    "tags": []
   },
   "outputs": [],
   "source": [
    "import numpy as np\n",
    "import pandas as pd\n",
    "import matplotlib.pyplot as plt\n",
    "import seaborn as sns\n",
    "import os"
   ]
  },
  {
   "cell_type": "markdown",
   "id": "a7e40f15",
   "metadata": {
    "papermill": {
     "duration": 0.015588,
     "end_time": "2022-06-13T06:02:22.289138",
     "exception": false,
     "start_time": "2022-06-13T06:02:22.273550",
     "status": "completed"
    },
    "tags": []
   },
   "source": [
    "# Data loading"
   ]
  },
  {
   "cell_type": "code",
   "execution_count": null,
   "id": "263abc90",
   "metadata": {
    "execution": {
     "iopub.execute_input": "2022-06-13T06:02:22.325518Z",
     "iopub.status.busy": "2022-06-13T06:02:22.324416Z",
     "iopub.status.idle": "2022-06-13T06:02:22.352772Z",
     "shell.execute_reply": "2022-06-13T06:02:22.351830Z"
    },
    "papermill": {
     "duration": 0.051045,
     "end_time": "2022-06-13T06:02:22.355746",
     "exception": false,
     "start_time": "2022-06-13T06:02:22.304701",
     "status": "completed"
    },
    "tags": []
   },
   "outputs": [],
   "source": [
    "df=pd.read_csv(\"Delhi_Data.csv\")"
   ]
  },
  {
   "cell_type": "code",
   "execution_count": null,
   "id": "c6b6e676",
   "metadata": {
    "execution": {
     "iopub.execute_input": "2022-06-13T06:02:22.401569Z",
     "iopub.status.busy": "2022-06-13T06:02:22.400851Z",
     "iopub.status.idle": "2022-06-13T06:02:22.447553Z",
     "shell.execute_reply": "2022-06-13T06:02:22.446384Z"
    },
    "papermill": {
     "duration": 0.070491,
     "end_time": "2022-06-13T06:02:22.451530",
     "exception": false,
     "start_time": "2022-06-13T06:02:22.381039",
     "status": "completed"
    },
    "tags": []
   },
   "outputs": [],
   "source": [
    "df"
   ]
  },
  {
   "cell_type": "markdown",
   "id": "b8d7a414",
   "metadata": {
    "papermill": {
     "duration": 0.016057,
     "end_time": "2022-06-13T06:02:22.484840",
     "exception": false,
     "start_time": "2022-06-13T06:02:22.468783",
     "status": "completed"
    },
    "tags": []
   },
   "source": [
    "# EDA"
   ]
  },
  {
   "cell_type": "code",
   "execution_count": null,
   "id": "00a853e2",
   "metadata": {
    "execution": {
     "iopub.execute_input": "2022-06-13T06:02:22.520462Z",
     "iopub.status.busy": "2022-06-13T06:02:22.519601Z",
     "iopub.status.idle": "2022-06-13T06:02:22.527007Z",
     "shell.execute_reply": "2022-06-13T06:02:22.526007Z"
    },
    "papermill": {
     "duration": 0.027706,
     "end_time": "2022-06-13T06:02:22.529242",
     "exception": false,
     "start_time": "2022-06-13T06:02:22.501536",
     "status": "completed"
    },
    "tags": []
   },
   "outputs": [],
   "source": [
    "df.columns"
   ]
  },
  {
   "cell_type": "code",
   "execution_count": null,
   "id": "482850c3",
   "metadata": {
    "execution": {
     "iopub.execute_input": "2022-06-13T06:02:22.569065Z",
     "iopub.status.busy": "2022-06-13T06:02:22.568444Z",
     "iopub.status.idle": "2022-06-13T06:02:22.594176Z",
     "shell.execute_reply": "2022-06-13T06:02:22.593291Z"
    },
    "papermill": {
     "duration": 0.050223,
     "end_time": "2022-06-13T06:02:22.596775",
     "exception": false,
     "start_time": "2022-06-13T06:02:22.546552",
     "status": "completed"
    },
    "tags": []
   },
   "outputs": [],
   "source": [
    "df.info()"
   ]
  },
  {
   "cell_type": "code",
   "execution_count": null,
   "id": "233795b1",
   "metadata": {
    "execution": {
     "iopub.execute_input": "2022-06-13T06:02:22.634967Z",
     "iopub.status.busy": "2022-06-13T06:02:22.634577Z",
     "iopub.status.idle": "2022-06-13T06:02:22.670324Z",
     "shell.execute_reply": "2022-06-13T06:02:22.669132Z"
    },
    "papermill": {
     "duration": 0.055283,
     "end_time": "2022-06-13T06:02:22.672735",
     "exception": false,
     "start_time": "2022-06-13T06:02:22.617452",
     "status": "completed"
    },
    "tags": []
   },
   "outputs": [],
   "source": [
    "df.describe()"
   ]
  },
  {
   "cell_type": "code",
   "execution_count": null,
   "id": "5553e1b6",
   "metadata": {
    "execution": {
     "iopub.execute_input": "2022-06-13T06:02:22.709449Z",
     "iopub.status.busy": "2022-06-13T06:02:22.709076Z",
     "iopub.status.idle": "2022-06-13T06:02:22.726499Z",
     "shell.execute_reply": "2022-06-13T06:02:22.725484Z"
    },
    "papermill": {
     "duration": 0.037075,
     "end_time": "2022-06-13T06:02:22.728625",
     "exception": false,
     "start_time": "2022-06-13T06:02:22.691550",
     "status": "completed"
    },
    "tags": []
   },
   "outputs": [],
   "source": [
    "df.head()"
   ]
  },
  {
   "cell_type": "code",
   "execution_count": null,
   "id": "53ebed00",
   "metadata": {
    "execution": {
     "iopub.execute_input": "2022-06-13T06:02:22.763136Z",
     "iopub.status.busy": "2022-06-13T06:02:22.762730Z",
     "iopub.status.idle": "2022-06-13T06:02:22.780583Z",
     "shell.execute_reply": "2022-06-13T06:02:22.779903Z"
    },
    "papermill": {
     "duration": 0.037564,
     "end_time": "2022-06-13T06:02:22.782598",
     "exception": false,
     "start_time": "2022-06-13T06:02:22.745034",
     "status": "completed"
    },
    "tags": []
   },
   "outputs": [],
   "source": [
    "df.tail()"
   ]
  },
  {
   "cell_type": "code",
   "execution_count": null,
   "id": "10f42e5e",
   "metadata": {
    "execution": {
     "iopub.execute_input": "2022-06-13T06:02:22.818049Z",
     "iopub.status.busy": "2022-06-13T06:02:22.817523Z",
     "iopub.status.idle": "2022-06-13T06:02:22.823224Z",
     "shell.execute_reply": "2022-06-13T06:02:22.822323Z"
    },
    "papermill": {
     "duration": 0.026095,
     "end_time": "2022-06-13T06:02:22.825453",
     "exception": false,
     "start_time": "2022-06-13T06:02:22.799358",
     "status": "completed"
    },
    "tags": []
   },
   "outputs": [],
   "source": [
    "df.shape"
   ]
  },
  {
   "cell_type": "code",
   "execution_count": null,
   "id": "c0c2961e",
   "metadata": {
    "execution": {
     "iopub.execute_input": "2022-06-13T06:02:22.861861Z",
     "iopub.status.busy": "2022-06-13T06:02:22.861414Z",
     "iopub.status.idle": "2022-06-13T06:02:22.871100Z",
     "shell.execute_reply": "2022-06-13T06:02:22.870363Z"
    },
    "papermill": {
     "duration": 0.03076,
     "end_time": "2022-06-13T06:02:22.872965",
     "exception": false,
     "start_time": "2022-06-13T06:02:22.842205",
     "status": "completed"
    },
    "tags": []
   },
   "outputs": [],
   "source": [
    "df.isna().sum()"
   ]
  },
  {
   "cell_type": "code",
   "execution_count": null,
   "id": "9a379e81",
   "metadata": {
    "execution": {
     "iopub.execute_input": "2022-06-13T06:02:22.908490Z",
     "iopub.status.busy": "2022-06-13T06:02:22.907782Z",
     "iopub.status.idle": "2022-06-13T06:02:22.917850Z",
     "shell.execute_reply": "2022-06-13T06:02:22.916838Z"
    },
    "papermill": {
     "duration": 0.030768,
     "end_time": "2022-06-13T06:02:22.920442",
     "exception": false,
     "start_time": "2022-06-13T06:02:22.889674",
     "status": "completed"
    },
    "tags": []
   },
   "outputs": [],
   "source": [
    "df.isna().mean()*100"
   ]
  },
  {
   "cell_type": "code",
   "execution_count": null,
   "id": "86ec13cc",
   "metadata": {
    "execution": {
     "iopub.execute_input": "2022-06-13T06:02:22.957346Z",
     "iopub.status.busy": "2022-06-13T06:02:22.956694Z",
     "iopub.status.idle": "2022-06-13T06:02:22.964482Z",
     "shell.execute_reply": "2022-06-13T06:02:22.963646Z"
    },
    "papermill": {
     "duration": 0.028221,
     "end_time": "2022-06-13T06:02:22.966419",
     "exception": false,
     "start_time": "2022-06-13T06:02:22.938198",
     "status": "completed"
    },
    "tags": []
   },
   "outputs": [],
   "source": [
    "df.dtypes"
   ]
  },
  {
   "cell_type": "code",
   "execution_count": null,
   "id": "11c221f0",
   "metadata": {
    "execution": {
     "iopub.execute_input": "2022-06-13T06:02:23.003506Z",
     "iopub.status.busy": "2022-06-13T06:02:23.002467Z",
     "iopub.status.idle": "2022-06-13T06:02:23.011132Z",
     "shell.execute_reply": "2022-06-13T06:02:23.010088Z"
    },
    "papermill": {
     "duration": 0.029445,
     "end_time": "2022-06-13T06:02:23.013250",
     "exception": false,
     "start_time": "2022-06-13T06:02:22.983805",
     "status": "completed"
    },
    "tags": []
   },
   "outputs": [],
   "source": [
    "df[\"Price\"].value_counts()"
   ]
  },
  {
   "cell_type": "code",
   "execution_count": null,
   "id": "88c1c550",
   "metadata": {
    "execution": {
     "iopub.execute_input": "2022-06-13T06:02:23.050482Z",
     "iopub.status.busy": "2022-06-13T06:02:23.050106Z",
     "iopub.status.idle": "2022-06-13T06:02:23.056856Z",
     "shell.execute_reply": "2022-06-13T06:02:23.056073Z"
    },
    "papermill": {
     "duration": 0.028072,
     "end_time": "2022-06-13T06:02:23.058857",
     "exception": false,
     "start_time": "2022-06-13T06:02:23.030785",
     "status": "completed"
    },
    "tags": []
   },
   "outputs": [],
   "source": [
    "df[\"Price\"].nunique()"
   ]
  },
  {
   "cell_type": "code",
   "execution_count": null,
   "id": "eeb87223",
   "metadata": {
    "execution": {
     "iopub.execute_input": "2022-06-13T06:02:23.095940Z",
     "iopub.status.busy": "2022-06-13T06:02:23.095219Z",
     "iopub.status.idle": "2022-06-13T06:02:23.101713Z",
     "shell.execute_reply": "2022-06-13T06:02:23.100948Z"
    },
    "papermill": {
     "duration": 0.027316,
     "end_time": "2022-06-13T06:02:23.103625",
     "exception": false,
     "start_time": "2022-06-13T06:02:23.076309",
     "status": "completed"
    },
    "tags": []
   },
   "outputs": [],
   "source": [
    "df[\"Status\"].nunique()"
   ]
  },
  {
   "cell_type": "code",
   "execution_count": null,
   "id": "5d12ce24",
   "metadata": {
    "execution": {
     "iopub.execute_input": "2022-06-13T06:02:23.141398Z",
     "iopub.status.busy": "2022-06-13T06:02:23.140651Z",
     "iopub.status.idle": "2022-06-13T06:02:23.147216Z",
     "shell.execute_reply": "2022-06-13T06:02:23.146457Z"
    },
    "papermill": {
     "duration": 0.027557,
     "end_time": "2022-06-13T06:02:23.149119",
     "exception": false,
     "start_time": "2022-06-13T06:02:23.121562",
     "status": "completed"
    },
    "tags": []
   },
   "outputs": [],
   "source": [
    "df[\"Transaction\"].nunique()"
   ]
  },
  {
   "cell_type": "code",
   "execution_count": null,
   "id": "418cb7ce",
   "metadata": {
    "execution": {
     "iopub.execute_input": "2022-06-13T06:02:23.188721Z",
     "iopub.status.busy": "2022-06-13T06:02:23.188024Z",
     "iopub.status.idle": "2022-06-13T06:02:23.196245Z",
     "shell.execute_reply": "2022-06-13T06:02:23.195315Z"
    },
    "papermill": {
     "duration": 0.03144,
     "end_time": "2022-06-13T06:02:23.198228",
     "exception": false,
     "start_time": "2022-06-13T06:02:23.166788",
     "status": "completed"
    },
    "tags": []
   },
   "outputs": [],
   "source": [
    "df[\"Parking\"].nunique()"
   ]
  },
  {
   "cell_type": "code",
   "execution_count": null,
   "id": "874fca58",
   "metadata": {
    "execution": {
     "iopub.execute_input": "2022-06-13T06:02:23.236212Z",
     "iopub.status.busy": "2022-06-13T06:02:23.235425Z",
     "iopub.status.idle": "2022-06-13T06:02:23.242812Z",
     "shell.execute_reply": "2022-06-13T06:02:23.241725Z"
    },
    "papermill": {
     "duration": 0.028926,
     "end_time": "2022-06-13T06:02:23.245059",
     "exception": false,
     "start_time": "2022-06-13T06:02:23.216133",
     "status": "completed"
    },
    "tags": []
   },
   "outputs": [],
   "source": [
    "df[\"Furnishing\"].nunique()"
   ]
  },
  {
   "cell_type": "code",
   "execution_count": null,
   "id": "44bd1575",
   "metadata": {
    "execution": {
     "iopub.execute_input": "2022-06-13T06:02:23.284686Z",
     "iopub.status.busy": "2022-06-13T06:02:23.284299Z",
     "iopub.status.idle": "2022-06-13T06:02:23.290250Z",
     "shell.execute_reply": "2022-06-13T06:02:23.289553Z"
    },
    "papermill": {
     "duration": 0.02822,
     "end_time": "2022-06-13T06:02:23.292067",
     "exception": false,
     "start_time": "2022-06-13T06:02:23.263847",
     "status": "completed"
    },
    "tags": []
   },
   "outputs": [],
   "source": [
    "df[\"Locality\"].nunique()"
   ]
  },
  {
   "cell_type": "code",
   "execution_count": null,
   "id": "27540031",
   "metadata": {
    "execution": {
     "iopub.execute_input": "2022-06-13T06:02:23.330106Z",
     "iopub.status.busy": "2022-06-13T06:02:23.329540Z",
     "iopub.status.idle": "2022-06-13T06:02:23.337895Z",
     "shell.execute_reply": "2022-06-13T06:02:23.337156Z"
    },
    "papermill": {
     "duration": 0.029449,
     "end_time": "2022-06-13T06:02:23.339652",
     "exception": false,
     "start_time": "2022-06-13T06:02:23.310203",
     "status": "completed"
    },
    "tags": []
   },
   "outputs": [],
   "source": [
    "df[\"Locality\"].value_counts()"
   ]
  },
  {
   "cell_type": "code",
   "execution_count": null,
   "id": "f7dde7cd",
   "metadata": {
    "execution": {
     "iopub.execute_input": "2022-06-13T06:02:23.378689Z",
     "iopub.status.busy": "2022-06-13T06:02:23.377825Z",
     "iopub.status.idle": "2022-06-13T06:02:23.574489Z",
     "shell.execute_reply": "2022-06-13T06:02:23.573713Z"
    },
    "papermill": {
     "duration": 0.217889,
     "end_time": "2022-06-13T06:02:23.576261",
     "exception": false,
     "start_time": "2022-06-13T06:02:23.358372",
     "status": "completed"
    },
    "tags": []
   },
   "outputs": [],
   "source": [
    "sns.countplot(df.dtypes.map(str))# here we can see that the count of int64 is more than the float64 and object\n",
    "plt.show()"
   ]
  },
  {
   "cell_type": "code",
   "execution_count": null,
   "id": "779a339c",
   "metadata": {
    "execution": {
     "iopub.execute_input": "2022-06-13T06:02:23.616046Z",
     "iopub.status.busy": "2022-06-13T06:02:23.615369Z",
     "iopub.status.idle": "2022-06-13T06:02:23.662393Z",
     "shell.execute_reply": "2022-06-13T06:02:23.661650Z"
    },
    "papermill": {
     "duration": 0.06936,
     "end_time": "2022-06-13T06:02:23.664304",
     "exception": false,
     "start_time": "2022-06-13T06:02:23.594944",
     "status": "completed"
    },
    "tags": []
   },
   "outputs": [],
   "source": [
    "df.groupby(\"Locality\").agg([np.median]).T"
   ]
  },
  {
   "cell_type": "code",
   "execution_count": null,
   "id": "1d61990b",
   "metadata": {
    "execution": {
     "iopub.execute_input": "2022-06-13T06:02:23.705246Z",
     "iopub.status.busy": "2022-06-13T06:02:23.704841Z",
     "iopub.status.idle": "2022-06-13T06:02:23.710429Z",
     "shell.execute_reply": "2022-06-13T06:02:23.709671Z"
    },
    "papermill": {
     "duration": 0.028051,
     "end_time": "2022-06-13T06:02:23.712290",
     "exception": false,
     "start_time": "2022-06-13T06:02:23.684239",
     "status": "completed"
    },
    "tags": []
   },
   "outputs": [],
   "source": [
    "df.drop(columns=\"Locality\",inplace=True)"
   ]
  },
  {
   "cell_type": "code",
   "execution_count": null,
   "id": "5e589c6a",
   "metadata": {
    "execution": {
     "iopub.execute_input": "2022-06-13T06:02:23.753870Z",
     "iopub.status.busy": "2022-06-13T06:02:23.753330Z",
     "iopub.status.idle": "2022-06-13T06:02:23.758538Z",
     "shell.execute_reply": "2022-06-13T06:02:23.757842Z"
    },
    "papermill": {
     "duration": 0.028381,
     "end_time": "2022-06-13T06:02:23.760401",
     "exception": false,
     "start_time": "2022-06-13T06:02:23.732020",
     "status": "completed"
    },
    "tags": []
   },
   "outputs": [],
   "source": [
    "df.shape"
   ]
  },
  {
   "cell_type": "code",
   "execution_count": null,
   "id": "d3841eb9",
   "metadata": {
    "execution": {
     "iopub.execute_input": "2022-06-13T06:02:23.801928Z",
     "iopub.status.busy": "2022-06-13T06:02:23.800698Z",
     "iopub.status.idle": "2022-06-13T06:02:23.806717Z",
     "shell.execute_reply": "2022-06-13T06:02:23.806011Z"
    },
    "papermill": {
     "duration": 0.028514,
     "end_time": "2022-06-13T06:02:23.808606",
     "exception": false,
     "start_time": "2022-06-13T06:02:23.780092",
     "status": "completed"
    },
    "tags": []
   },
   "outputs": [],
   "source": [
    "df.columns"
   ]
  },
  {
   "cell_type": "code",
   "execution_count": null,
   "id": "50fee340",
   "metadata": {
    "execution": {
     "iopub.execute_input": "2022-06-13T06:02:23.850955Z",
     "iopub.status.busy": "2022-06-13T06:02:23.850295Z",
     "iopub.status.idle": "2022-06-13T06:02:23.856863Z",
     "shell.execute_reply": "2022-06-13T06:02:23.855844Z"
    },
    "papermill": {
     "duration": 0.030159,
     "end_time": "2022-06-13T06:02:23.858993",
     "exception": false,
     "start_time": "2022-06-13T06:02:23.828834",
     "status": "completed"
    },
    "tags": []
   },
   "outputs": [],
   "source": [
    "df[\"BHK\"].unique()"
   ]
  },
  {
   "cell_type": "code",
   "execution_count": null,
   "id": "767e7e61",
   "metadata": {
    "execution": {
     "iopub.execute_input": "2022-06-13T06:02:23.902290Z",
     "iopub.status.busy": "2022-06-13T06:02:23.901436Z",
     "iopub.status.idle": "2022-06-13T06:02:23.908609Z",
     "shell.execute_reply": "2022-06-13T06:02:23.907742Z"
    },
    "papermill": {
     "duration": 0.030402,
     "end_time": "2022-06-13T06:02:23.910810",
     "exception": false,
     "start_time": "2022-06-13T06:02:23.880408",
     "status": "completed"
    },
    "tags": []
   },
   "outputs": [],
   "source": [
    "df[\"BHK\"].value_counts()"
   ]
  },
  {
   "cell_type": "code",
   "execution_count": null,
   "id": "e8eace58",
   "metadata": {
    "execution": {
     "iopub.execute_input": "2022-06-13T06:02:23.953037Z",
     "iopub.status.busy": "2022-06-13T06:02:23.952375Z",
     "iopub.status.idle": "2022-06-13T06:02:23.956284Z",
     "shell.execute_reply": "2022-06-13T06:02:23.955592Z"
    },
    "papermill": {
     "duration": 0.027211,
     "end_time": "2022-06-13T06:02:23.958342",
     "exception": false,
     "start_time": "2022-06-13T06:02:23.931131",
     "status": "completed"
    },
    "tags": []
   },
   "outputs": [],
   "source": [
    "import warnings\n",
    "warnings.filterwarnings(\"ignore\")"
   ]
  },
  {
   "cell_type": "code",
   "execution_count": null,
   "id": "f534dafb",
   "metadata": {
    "execution": {
     "iopub.execute_input": "2022-06-13T06:02:24.000107Z",
     "iopub.status.busy": "2022-06-13T06:02:23.999478Z",
     "iopub.status.idle": "2022-06-13T06:02:24.864191Z",
     "shell.execute_reply": "2022-06-13T06:02:24.863211Z"
    },
    "papermill": {
     "duration": 0.888088,
     "end_time": "2022-06-13T06:02:24.866403",
     "exception": false,
     "start_time": "2022-06-13T06:02:23.978315",
     "status": "completed"
    },
    "tags": []
   },
   "outputs": [],
   "source": [
    "for index, i in enumerate(df.columns):\n",
    "        if(df[i].dtype == np.float64 or df[i].dtype == np.int64):\n",
    "              plt.figure(index)\n",
    "              sns.boxplot(df[i])\n",
    "plt.show()"
   ]
  },
  {
   "cell_type": "code",
   "execution_count": null,
   "id": "a5688c17",
   "metadata": {
    "execution": {
     "iopub.execute_input": "2022-06-13T06:02:24.910367Z",
     "iopub.status.busy": "2022-06-13T06:02:24.909948Z",
     "iopub.status.idle": "2022-06-13T06:02:26.677596Z",
     "shell.execute_reply": "2022-06-13T06:02:26.676739Z"
    },
    "papermill": {
     "duration": 1.792463,
     "end_time": "2022-06-13T06:02:26.680409",
     "exception": false,
     "start_time": "2022-06-13T06:02:24.887946",
     "status": "completed"
    },
    "tags": []
   },
   "outputs": [],
   "source": [
    "for index, i in enumerate(df.columns):\n",
    "        if(df[i].dtype == np.float64 or df[i].dtype == np.int64):\n",
    "              plt.figure(index)\n",
    "              sns.distplot(df[i])\n",
    "plt.show()"
   ]
  },
  {
   "cell_type": "code",
   "execution_count": null,
   "id": "2804266f",
   "metadata": {
    "execution": {
     "iopub.execute_input": "2022-06-13T06:02:26.732197Z",
     "iopub.status.busy": "2022-06-13T06:02:26.730380Z",
     "iopub.status.idle": "2022-06-13T06:02:27.773165Z",
     "shell.execute_reply": "2022-06-13T06:02:27.772265Z"
    },
    "papermill": {
     "duration": 1.071061,
     "end_time": "2022-06-13T06:02:27.775368",
     "exception": false,
     "start_time": "2022-06-13T06:02:26.704307",
     "status": "completed"
    },
    "tags": []
   },
   "outputs": [],
   "source": [
    "for index, i in enumerate(df.columns):\n",
    "        if(df[i].dtype == np.float64 or df[i].dtype == np.int64):\n",
    "              plt.figure(index)\n",
    "              sns.kdeplot(df[i])\n",
    "plt.show()"
   ]
  },
  {
   "cell_type": "code",
   "execution_count": null,
   "id": "4dd6223a",
   "metadata": {
    "execution": {
     "iopub.execute_input": "2022-06-13T06:02:27.826880Z",
     "iopub.status.busy": "2022-06-13T06:02:27.826461Z",
     "iopub.status.idle": "2022-06-13T06:02:28.785444Z",
     "shell.execute_reply": "2022-06-13T06:02:28.784528Z"
    },
    "papermill": {
     "duration": 0.987114,
     "end_time": "2022-06-13T06:02:28.787775",
     "exception": false,
     "start_time": "2022-06-13T06:02:27.800661",
     "status": "completed"
    },
    "tags": []
   },
   "outputs": [],
   "source": [
    "for index, i in enumerate(df.columns):\n",
    "        if(df[i].dtype == np.float64 or df[i].dtype == np.int64):\n",
    "              plt.figure(index)\n",
    "              sns.violinplot(df[i])\n",
    "plt.show()"
   ]
  },
  {
   "cell_type": "code",
   "execution_count": null,
   "id": "8bfd3e2d",
   "metadata": {
    "execution": {
     "iopub.execute_input": "2022-06-13T06:02:28.843346Z",
     "iopub.status.busy": "2022-06-13T06:02:28.842332Z",
     "iopub.status.idle": "2022-06-13T06:02:44.042795Z",
     "shell.execute_reply": "2022-06-13T06:02:44.041817Z"
    },
    "papermill": {
     "duration": 15.231853,
     "end_time": "2022-06-13T06:02:44.045934",
     "exception": false,
     "start_time": "2022-06-13T06:02:28.814081",
     "status": "completed"
    },
    "tags": []
   },
   "outputs": [],
   "source": [
    "sns.pairplot(df,hue=\"Price\")"
   ]
  },
  {
   "cell_type": "code",
   "execution_count": null,
   "id": "0921858b",
   "metadata": {
    "execution": {
     "iopub.execute_input": "2022-06-13T06:02:44.106068Z",
     "iopub.status.busy": "2022-06-13T06:02:44.104979Z",
     "iopub.status.idle": "2022-06-13T06:02:44.119647Z",
     "shell.execute_reply": "2022-06-13T06:02:44.118836Z"
    },
    "papermill": {
     "duration": 0.046288,
     "end_time": "2022-06-13T06:02:44.121601",
     "exception": false,
     "start_time": "2022-06-13T06:02:44.075313",
     "status": "completed"
    },
    "tags": []
   },
   "outputs": [],
   "source": [
    "df.corr()"
   ]
  },
  {
   "cell_type": "code",
   "execution_count": null,
   "id": "f585be95",
   "metadata": {
    "execution": {
     "iopub.execute_input": "2022-06-13T06:02:44.181027Z",
     "iopub.status.busy": "2022-06-13T06:02:44.180165Z",
     "iopub.status.idle": "2022-06-13T06:02:44.522203Z",
     "shell.execute_reply": "2022-06-13T06:02:44.521189Z"
    },
    "papermill": {
     "duration": 0.374039,
     "end_time": "2022-06-13T06:02:44.524404",
     "exception": false,
     "start_time": "2022-06-13T06:02:44.150365",
     "status": "completed"
    },
    "tags": []
   },
   "outputs": [],
   "source": [
    "plt.figure(figsize=(15,8))\n",
    "sns.heatmap(data=df.corr(),annot=True)\n",
    "plt.show()"
   ]
  },
  {
   "cell_type": "code",
   "execution_count": null,
   "id": "5521d3b7",
   "metadata": {
    "execution": {
     "iopub.execute_input": "2022-06-13T06:02:44.585211Z",
     "iopub.status.busy": "2022-06-13T06:02:44.584791Z",
     "iopub.status.idle": "2022-06-13T06:02:45.955932Z",
     "shell.execute_reply": "2022-06-13T06:02:45.954919Z"
    },
    "papermill": {
     "duration": 1.404157,
     "end_time": "2022-06-13T06:02:45.958018",
     "exception": false,
     "start_time": "2022-06-13T06:02:44.553861",
     "status": "completed"
    },
    "tags": []
   },
   "outputs": [],
   "source": [
    "count=1\n",
    "plt.subplots(figsize=(15,10))\n",
    "for i in df.columns:\n",
    "    if df[i].dtypes!=\"object\":\n",
    "        plt.subplot(3,2,count)\n",
    "        sns.distplot(df[i])\n",
    "        count+=1\n",
    "plt.show()\n"
   ]
  },
  {
   "cell_type": "code",
   "execution_count": null,
   "id": "26ba0435",
   "metadata": {
    "execution": {
     "iopub.execute_input": "2022-06-13T06:02:46.021163Z",
     "iopub.status.busy": "2022-06-13T06:02:46.020718Z",
     "iopub.status.idle": "2022-06-13T06:02:46.168575Z",
     "shell.execute_reply": "2022-06-13T06:02:46.167728Z"
    },
    "papermill": {
     "duration": 0.182552,
     "end_time": "2022-06-13T06:02:46.170969",
     "exception": false,
     "start_time": "2022-06-13T06:02:45.988417",
     "status": "completed"
    },
    "tags": []
   },
   "outputs": [],
   "source": [
    "from sklearn.preprocessing import LabelEncoder\n",
    "le = LabelEncoder()\n",
    "for col in df.columns:\n",
    "    if df[col].dtypes == 'object':\n",
    "        df[col] = le.fit_transform(df[col])"
   ]
  },
  {
   "cell_type": "code",
   "execution_count": null,
   "id": "65661144",
   "metadata": {
    "execution": {
     "iopub.execute_input": "2022-06-13T06:02:46.233914Z",
     "iopub.status.busy": "2022-06-13T06:02:46.232686Z",
     "iopub.status.idle": "2022-06-13T06:02:46.243229Z",
     "shell.execute_reply": "2022-06-13T06:02:46.242187Z"
    },
    "papermill": {
     "duration": 0.044575,
     "end_time": "2022-06-13T06:02:46.245575",
     "exception": false,
     "start_time": "2022-06-13T06:02:46.201000",
     "status": "completed"
    },
    "tags": []
   },
   "outputs": [],
   "source": [
    "df.fillna(method=\"bfill\",inplace=True)"
   ]
  },
  {
   "cell_type": "code",
   "execution_count": null,
   "id": "d603b87c",
   "metadata": {
    "execution": {
     "iopub.execute_input": "2022-06-13T06:02:46.310634Z",
     "iopub.status.busy": "2022-06-13T06:02:46.310181Z",
     "iopub.status.idle": "2022-06-13T06:02:46.317730Z",
     "shell.execute_reply": "2022-06-13T06:02:46.316807Z"
    },
    "papermill": {
     "duration": 0.041856,
     "end_time": "2022-06-13T06:02:46.319709",
     "exception": false,
     "start_time": "2022-06-13T06:02:46.277853",
     "status": "completed"
    },
    "tags": []
   },
   "outputs": [],
   "source": [
    "df.dtypes"
   ]
  },
  {
   "cell_type": "code",
   "execution_count": null,
   "id": "666a17db",
   "metadata": {
    "execution": {
     "iopub.execute_input": "2022-06-13T06:02:46.383369Z",
     "iopub.status.busy": "2022-06-13T06:02:46.382526Z",
     "iopub.status.idle": "2022-06-13T06:02:46.388058Z",
     "shell.execute_reply": "2022-06-13T06:02:46.387329Z"
    },
    "papermill": {
     "duration": 0.039774,
     "end_time": "2022-06-13T06:02:46.389917",
     "exception": false,
     "start_time": "2022-06-13T06:02:46.350143",
     "status": "completed"
    },
    "tags": []
   },
   "outputs": [],
   "source": [
    "x=df.drop('Price',axis=1)\n",
    "y=df['Price']"
   ]
  },
  {
   "cell_type": "code",
   "execution_count": null,
   "id": "e613872f",
   "metadata": {
    "execution": {
     "iopub.execute_input": "2022-06-13T06:02:46.453466Z",
     "iopub.status.busy": "2022-06-13T06:02:46.452874Z",
     "iopub.status.idle": "2022-06-13T06:02:46.457719Z",
     "shell.execute_reply": "2022-06-13T06:02:46.457083Z"
    },
    "papermill": {
     "duration": 0.038833,
     "end_time": "2022-06-13T06:02:46.459479",
     "exception": false,
     "start_time": "2022-06-13T06:02:46.420646",
     "status": "completed"
    },
    "tags": []
   },
   "outputs": [],
   "source": [
    "x.shape"
   ]
  },
  {
   "cell_type": "code",
   "execution_count": null,
   "id": "ed24d634",
   "metadata": {
    "execution": {
     "iopub.execute_input": "2022-06-13T06:02:46.522393Z",
     "iopub.status.busy": "2022-06-13T06:02:46.521809Z",
     "iopub.status.idle": "2022-06-13T06:02:46.526630Z",
     "shell.execute_reply": "2022-06-13T06:02:46.526015Z"
    },
    "papermill": {
     "duration": 0.038866,
     "end_time": "2022-06-13T06:02:46.528422",
     "exception": false,
     "start_time": "2022-06-13T06:02:46.489556",
     "status": "completed"
    },
    "tags": []
   },
   "outputs": [],
   "source": [
    "y.shape"
   ]
  },
  {
   "cell_type": "code",
   "execution_count": null,
   "id": "9ead9e9f",
   "metadata": {
    "execution": {
     "iopub.execute_input": "2022-06-13T06:02:46.590949Z",
     "iopub.status.busy": "2022-06-13T06:02:46.590316Z",
     "iopub.status.idle": "2022-06-13T06:02:46.656955Z",
     "shell.execute_reply": "2022-06-13T06:02:46.656086Z"
    },
    "papermill": {
     "duration": 0.100568,
     "end_time": "2022-06-13T06:02:46.659197",
     "exception": false,
     "start_time": "2022-06-13T06:02:46.558629",
     "status": "completed"
    },
    "tags": []
   },
   "outputs": [],
   "source": [
    "from sklearn.model_selection import train_test_split\n",
    "x_train,x_test,y_train,y_test=train_test_split(x,y,test_size=0.2,random_state=42)"
   ]
  },
  {
   "cell_type": "code",
   "execution_count": null,
   "id": "0a9ba722",
   "metadata": {
    "execution": {
     "iopub.execute_input": "2022-06-13T06:02:46.722476Z",
     "iopub.status.busy": "2022-06-13T06:02:46.721870Z",
     "iopub.status.idle": "2022-06-13T06:02:46.742526Z",
     "shell.execute_reply": "2022-06-13T06:02:46.741831Z"
    },
    "papermill": {
     "duration": 0.054791,
     "end_time": "2022-06-13T06:02:46.744426",
     "exception": false,
     "start_time": "2022-06-13T06:02:46.689635",
     "status": "completed"
    },
    "tags": []
   },
   "outputs": [],
   "source": [
    "x_train\n"
   ]
  },
  {
   "cell_type": "code",
   "execution_count": null,
   "id": "a48be7e6",
   "metadata": {
    "execution": {
     "iopub.execute_input": "2022-06-13T06:02:46.808024Z",
     "iopub.status.busy": "2022-06-13T06:02:46.807393Z",
     "iopub.status.idle": "2022-06-13T06:02:46.813743Z",
     "shell.execute_reply": "2022-06-13T06:02:46.812948Z"
    },
    "papermill": {
     "duration": 0.040584,
     "end_time": "2022-06-13T06:02:46.815628",
     "exception": false,
     "start_time": "2022-06-13T06:02:46.775044",
     "status": "completed"
    },
    "tags": []
   },
   "outputs": [],
   "source": [
    "y_train"
   ]
  },
  {
   "cell_type": "code",
   "execution_count": null,
   "id": "f6c56469",
   "metadata": {
    "execution": {
     "iopub.execute_input": "2022-06-13T06:02:46.879947Z",
     "iopub.status.busy": "2022-06-13T06:02:46.878893Z",
     "iopub.status.idle": "2022-06-13T06:02:46.900523Z",
     "shell.execute_reply": "2022-06-13T06:02:46.899855Z"
    },
    "papermill": {
     "duration": 0.055917,
     "end_time": "2022-06-13T06:02:46.902454",
     "exception": false,
     "start_time": "2022-06-13T06:02:46.846537",
     "status": "completed"
    },
    "tags": []
   },
   "outputs": [],
   "source": [
    "x_test"
   ]
  },
  {
   "cell_type": "code",
   "execution_count": null,
   "id": "a5184de6",
   "metadata": {
    "execution": {
     "iopub.execute_input": "2022-06-13T06:02:46.967687Z",
     "iopub.status.busy": "2022-06-13T06:02:46.967018Z",
     "iopub.status.idle": "2022-06-13T06:02:46.973410Z",
     "shell.execute_reply": "2022-06-13T06:02:46.972810Z"
    },
    "papermill": {
     "duration": 0.041547,
     "end_time": "2022-06-13T06:02:46.975298",
     "exception": false,
     "start_time": "2022-06-13T06:02:46.933751",
     "status": "completed"
    },
    "tags": []
   },
   "outputs": [],
   "source": [
    "y_test"
   ]
  },
  {
   "cell_type": "code",
   "execution_count": null,
   "id": "9ca6d3c5",
   "metadata": {
    "execution": {
     "iopub.execute_input": "2022-06-13T06:02:47.040964Z",
     "iopub.status.busy": "2022-06-13T06:02:47.040351Z",
     "iopub.status.idle": "2022-06-13T06:02:47.302825Z",
     "shell.execute_reply": "2022-06-13T06:02:47.302122Z"
    },
    "papermill": {
     "duration": 0.298204,
     "end_time": "2022-06-13T06:02:47.304693",
     "exception": false,
     "start_time": "2022-06-13T06:02:47.006489",
     "status": "completed"
    },
    "tags": []
   },
   "outputs": [],
   "source": [
    "from sklearn.ensemble import RandomForestRegressor\n",
    "rf = RandomForestRegressor(n_estimators = 10, random_state = 0)\n",
    "rf.fit(x_train, y_train)"
   ]
  },
  {
   "cell_type": "code",
   "execution_count": null,
   "id": "d9dc9587",
   "metadata": {
    "execution": {
     "iopub.execute_input": "2022-06-13T06:02:47.370450Z",
     "iopub.status.busy": "2022-06-13T06:02:47.369849Z",
     "iopub.status.idle": "2022-06-13T06:02:47.382549Z",
     "shell.execute_reply": "2022-06-13T06:02:47.381673Z"
    },
    "papermill": {
     "duration": 0.048169,
     "end_time": "2022-06-13T06:02:47.384419",
     "exception": false,
     "start_time": "2022-06-13T06:02:47.336250",
     "status": "completed"
    },
    "tags": []
   },
   "outputs": [],
   "source": [
    "y_pred_rf = rf.predict(x_test)\n",
    "y_pred_rf"
   ]
  },
  {
   "cell_type": "code",
   "execution_count": null,
   "id": "2b9f4c20",
   "metadata": {
    "execution": {
     "iopub.execute_input": "2022-06-13T06:02:47.450152Z",
     "iopub.status.busy": "2022-06-13T06:02:47.449727Z",
     "iopub.status.idle": "2022-06-13T06:02:47.461683Z",
     "shell.execute_reply": "2022-06-13T06:02:47.460626Z"
    },
    "papermill": {
     "duration": 0.048431,
     "end_time": "2022-06-13T06:02:47.464351",
     "exception": false,
     "start_time": "2022-06-13T06:02:47.415920",
     "status": "completed"
    },
    "tags": []
   },
   "outputs": [],
   "source": [
    "#display adjusted R-squared\n",
    "a_r_s=(1 - (1-rf.score(x, y))*(len(y)-1)/(len(y)-x.shape[1]-1))*100\n",
    "print('adjusted R-squared:', a_r_s)"
   ]
  },
  {
   "cell_type": "code",
   "execution_count": null,
   "id": "2db41858",
   "metadata": {
    "execution": {
     "iopub.execute_input": "2022-06-13T06:02:47.530668Z",
     "iopub.status.busy": "2022-06-13T06:02:47.530279Z",
     "iopub.status.idle": "2022-06-13T06:02:47.538089Z",
     "shell.execute_reply": "2022-06-13T06:02:47.537413Z"
    },
    "papermill": {
     "duration": 0.042976,
     "end_time": "2022-06-13T06:02:47.539810",
     "exception": false,
     "start_time": "2022-06-13T06:02:47.496834",
     "status": "completed"
    },
    "tags": []
   },
   "outputs": [],
   "source": [
    "result=rf.predict(np.array([[800,3,2,1,1,0,1,1,6667]]))\n",
    "result"
   ]
  },
  {
   "cell_type": "code",
   "execution_count": null,
   "id": "462d214f",
   "metadata": {
    "execution": {
     "iopub.execute_input": "2022-06-13T06:02:47.606012Z",
     "iopub.status.busy": "2022-06-13T06:02:47.605351Z",
     "iopub.status.idle": "2022-06-13T06:02:47.614794Z",
     "shell.execute_reply": "2022-06-13T06:02:47.613979Z"
    },
    "papermill": {
     "duration": 0.045023,
     "end_time": "2022-06-13T06:02:47.616700",
     "exception": false,
     "start_time": "2022-06-13T06:02:47.571677",
     "status": "completed"
    },
    "tags": []
   },
   "outputs": [],
   "source": [
    "from sklearn.neighbors import KNeighborsRegressor\n",
    "neigh = KNeighborsRegressor(n_neighbors=2)\n",
    "neigh.fit(x_train, y_train)"
   ]
  },
  {
   "cell_type": "code",
   "execution_count": null,
   "id": "2a323cac",
   "metadata": {
    "execution": {
     "iopub.execute_input": "2022-06-13T06:02:47.682673Z",
     "iopub.status.busy": "2022-06-13T06:02:47.682276Z",
     "iopub.status.idle": "2022-06-13T06:02:47.693722Z",
     "shell.execute_reply": "2022-06-13T06:02:47.693026Z"
    },
    "papermill": {
     "duration": 0.048491,
     "end_time": "2022-06-13T06:02:47.697147",
     "exception": false,
     "start_time": "2022-06-13T06:02:47.648656",
     "status": "completed"
    },
    "tags": []
   },
   "outputs": [],
   "source": [
    "#display adjusted R-squared\n",
    "a_r_s=(1 - (1-neigh.score(x, y))*(len(y)-1)/(len(y)-x.shape[1]-1))*100\n",
    "print('adjusted R-squared:', a_r_s)"
   ]
  },
  {
   "cell_type": "code",
   "execution_count": null,
   "id": "daf298f5",
   "metadata": {
    "execution": {
     "iopub.execute_input": "2022-06-13T06:02:47.764706Z",
     "iopub.status.busy": "2022-06-13T06:02:47.763611Z",
     "iopub.status.idle": "2022-06-13T06:02:47.773497Z",
     "shell.execute_reply": "2022-06-13T06:02:47.772544Z"
    },
    "papermill": {
     "duration": 0.045191,
     "end_time": "2022-06-13T06:02:47.775435",
     "exception": false,
     "start_time": "2022-06-13T06:02:47.730244",
     "status": "completed"
    },
    "tags": []
   },
   "outputs": [],
   "source": [
    "result=rf.predict(np.array([[650,2,2,1,1,0,1,1,6667]]))\n",
    "result"
   ]
  },
  {
   "cell_type": "markdown",
   "id": "d5cb34d2",
   "metadata": {
    "execution": {
     "iopub.execute_input": "2022-06-13T06:01:16.478741Z",
     "iopub.status.busy": "2022-06-13T06:01:16.477936Z",
     "iopub.status.idle": "2022-06-13T06:01:16.487082Z",
     "shell.execute_reply": "2022-06-13T06:01:16.485340Z",
     "shell.execute_reply.started": "2022-06-13T06:01:16.478699Z"
    },
    "papermill": {
     "duration": 0.032774,
     "end_time": "2022-06-13T06:02:47.841019",
     "exception": false,
     "start_time": "2022-06-13T06:02:47.808245",
     "status": "completed"
    },
    "tags": []
   },
   "source": [
    "the prediction is correct ,you can check by keep different features in the above code"
   ]
  },
  {
   "cell_type": "markdown",
   "id": "6bb4fbce",
   "metadata": {
    "papermill": {
     "duration": 0.033311,
     "end_time": "2022-06-13T06:02:47.907852",
     "exception": false,
     "start_time": "2022-06-13T06:02:47.874541",
     "status": "completed"
    },
    "tags": []
   },
   "source": []
  },
  {
   "cell_type": "markdown",
   "id": "bd11c831",
   "metadata": {
    "papermill": {
     "duration": 0.031716,
     "end_time": "2022-06-13T06:02:47.972006",
     "exception": false,
     "start_time": "2022-06-13T06:02:47.940290",
     "status": "completed"
    },
    "tags": []
   },
   "source": []
  },
  {
   "cell_type": "code",
   "execution_count": null,
   "id": "3379ba2c",
   "metadata": {
    "papermill": {
     "duration": 0.03206,
     "end_time": "2022-06-13T06:02:48.036511",
     "exception": false,
     "start_time": "2022-06-13T06:02:48.004451",
     "status": "completed"
    },
    "tags": []
   },
   "outputs": [],
   "source": []
  },
  {
   "cell_type": "code",
   "execution_count": null,
   "id": "c4120708",
   "metadata": {
    "papermill": {
     "duration": 0.033972,
     "end_time": "2022-06-13T06:02:48.103613",
     "exception": false,
     "start_time": "2022-06-13T06:02:48.069641",
     "status": "completed"
    },
    "tags": []
   },
   "outputs": [],
   "source": []
  }
 ],
 "metadata": {
  "kernelspec": {
   "display_name": "Python 3 (ipykernel)",
   "language": "python",
   "name": "python3"
  },
  "language_info": {
   "codemirror_mode": {
    "name": "ipython",
    "version": 3
   },
   "file_extension": ".py",
   "mimetype": "text/x-python",
   "name": "python",
   "nbconvert_exporter": "python",
   "pygments_lexer": "ipython3",
   "version": "3.11.2"
  },
  "papermill": {
   "default_parameters": {},
   "duration": 37.819478,
   "end_time": "2022-06-13T06:02:49.059225",
   "environment_variables": {},
   "exception": null,
   "input_path": "__notebook__.ipynb",
   "output_path": "__notebook__.ipynb",
   "parameters": {},
   "start_time": "2022-06-13T06:02:11.239747",
   "version": "2.3.4"
  }
 },
 "nbformat": 4,
 "nbformat_minor": 5
}
